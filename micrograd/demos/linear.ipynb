{
 "cells": [
  {
   "cell_type": "code",
   "execution_count": 1,
   "metadata": {},
   "outputs": [],
   "source": [
    "import numpy as np \n",
    "from matplotlib import pyplot as plt\n",
    "import micrograd.nn as nn \n",
    "from micrograd.core import Tensor \n",
    "import micrograd.optim as optim"
   ]
  },
  {
   "cell_type": "code",
   "execution_count": null,
   "metadata": {},
   "outputs": [],
   "source": [
    "A = np.array([[1, 2, 3], [4, 5, 6], [7, 8, 9]], dtype=np.float32)\n",
    "b = np.array([1, 2, 3], dtype=np.float32)\n",
    "\n",
    "def f(x: np.ndarray):\n",
    "    return A @ x + b\n",
    "\n",
    "N = 100\n",
    "xn, yn = 3, 3\n",
    "xs = Tensor(np.random.randn(N, xn))\n",
    "ys = xs.batchmm(A) + b"
   ]
  },
  {
   "cell_type": "code",
   "execution_count": null,
   "metadata": {},
   "outputs": [],
   "source": [
    "net = nn.Linear(xn, yn)\n",
    "optimizer = optim.SGD(net.parameters(), lr=1e-3, momentum=0.9)\n",
    "\n",
    "def train(epochs: int=1):\n",
    "    losses = []\n",
    "    for i in range(epochs):\n",
    "        optimizer.zero_grad()\n",
    "        yhats = net(xs)\n",
    "        loss = nn.MSELoss()(yhats, ys)\n",
    "        losses.append(loss.data.item())\n",
    "        loss.backward()\n",
    "        optimizer.step()\n",
    "    return losses\n",
    "\n",
    "print(\"w\", net.weight.data)\n",
    "print(\"b\", net.bias.data)\n",
    "losses = train(epochs=1000)\n",
    "print(\"\\nafter:\")\n",
    "print(\"w\", net.weight.data)\n",
    "print(\"b\", net.bias.data)\n",
    "plt.plot(losses)\n",
    "losses[-1]"
   ]
  },
  {
   "cell_type": "code",
   "execution_count": null,
   "metadata": {},
   "outputs": [],
   "source": [
    "m = nn.Linear(3, 3)\n",
    "o = optim.SGD(m.parameters(), lr=1e-2)\n",
    "\n",
    "m.weight.data = np.zeros_like(m.weight.data)\n",
    "m.weight.grad = np.ones_like(m.weight.grad)\n",
    "\n",
    "o.step()\n",
    "\n",
    "m.weight"
   ]
  }
 ],
 "metadata": {
  "kernelspec": {
   "display_name": "venv",
   "language": "python",
   "name": "python3"
  },
  "language_info": {
   "codemirror_mode": {
    "name": "ipython",
    "version": 3
   },
   "file_extension": ".py",
   "mimetype": "text/x-python",
   "name": "python",
   "nbconvert_exporter": "python",
   "pygments_lexer": "ipython3",
   "version": "3.12.3"
  }
 },
 "nbformat": 4,
 "nbformat_minor": 2
}
