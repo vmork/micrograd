{
 "cells": [
  {
   "cell_type": "code",
   "execution_count": 2,
   "metadata": {},
   "outputs": [],
   "source": [
    "import numpy as np \n",
    "import torch\n",
    "import torch.nn as nn\n",
    "\n",
    "from micrograd.core import Tensor\n",
    "from micrograd.nn import NLLLoss"
   ]
  },
  {
   "cell_type": "code",
   "execution_count": 165,
   "metadata": {},
   "outputs": [
    {
     "data": {
      "text/plain": [
       "array([[ 0,  1,  2,  3,  4,  5],\n",
       "       [ 6,  7,  8,  9, 10, 11],\n",
       "       [12, 13, 14, 15, 16, 17],\n",
       "       [18, 19, 20, 21, 22, 23],\n",
       "       [24, 25, 26, 27, 28, 29],\n",
       "       [30, 31, 32, 33, 34, 35]])"
      ]
     },
     "metadata": {},
     "output_type": "display_data"
    },
    {
     "name": "stdout",
     "output_type": "stream",
     "text": [
      "[6. 1. 6. 1.] [6. 1.]\n"
     ]
    },
    {
     "data": {
      "text/plain": [
       "array([[ 0,  1,  2,  1,  2,  3,  2,  3,  4,  3,  4,  5],\n",
       "       [ 6,  7,  8,  7,  8,  9,  8,  9, 10,  9, 10, 11],\n",
       "       [12, 13, 14, 13, 14, 15, 14, 15, 16, 15, 16, 17],\n",
       "       [ 6,  7,  8,  7,  8,  9,  8,  9, 10,  9, 10, 11],\n",
       "       [12, 13, 14, 13, 14, 15, 14, 15, 16, 15, 16, 17],\n",
       "       [18, 19, 20, 19, 20, 21, 20, 21, 22, 21, 22, 23],\n",
       "       [12, 13, 14, 13, 14, 15, 14, 15, 16, 15, 16, 17],\n",
       "       [18, 19, 20, 19, 20, 21, 20, 21, 22, 21, 22, 23],\n",
       "       [24, 25, 26, 25, 26, 27, 26, 27, 28, 27, 28, 29],\n",
       "       [18, 19, 20, 19, 20, 21, 20, 21, 22, 21, 22, 23],\n",
       "       [24, 25, 26, 25, 26, 27, 26, 27, 28, 27, 28, 29],\n",
       "       [30, 31, 32, 31, 32, 33, 32, 33, 34, 33, 34, 35]])"
      ]
     },
     "execution_count": 165,
     "metadata": {},
     "output_type": "execute_result"
    }
   ],
   "source": [
    "from numpy.lib.stride_tricks import sliding_window_view, as_strided\n",
    "from itertools import product\n",
    "\n",
    "w, h = 6, 6\n",
    "x = np.arange(w*h).reshape(h, w); display(x)\n",
    "u = sliding_window_view(x, (3, 3))\n",
    "\n",
    "# u = u.reshape(-1, 3,3,3).reshape(3, 3, 3, 3)\n",
    "# u = u.reshape(3, 3, -1).reshape(3, 3, 3, 3)\n",
    "\n",
    "print(np.array(u.strides)/8, np.array(x.strides)/8)\n",
    "\n",
    "u = u[::, ::, :, :]\n",
    "# display(u)\n",
    "\n",
    "u = np.block(list(list(x) for x in u))\n",
    "u"
   ]
  },
  {
   "cell_type": "code",
   "execution_count": 3,
   "metadata": {},
   "outputs": [],
   "source": [
    "a = np.ones((2, 3))\n",
    "b = np.ones((10, 3, 5))\n",
    "\n",
    "y = a @ b\n",
    "assert all(np.allclose(y[k], a @ b[k]) for k in range(b.shape[0]))"
   ]
  },
  {
   "cell_type": "code",
   "execution_count": 4,
   "metadata": {},
   "outputs": [
    {
     "data": {
      "text/plain": [
       "array([[12., 12., 12., 12., 12., 12.],\n",
       "       [12., 12., 12., 12., 12., 12.]])"
      ]
     },
     "execution_count": 4,
     "metadata": {},
     "output_type": "execute_result"
    }
   ],
   "source": [
    "a = np.ones((2, 3, 4))\n",
    "b = np.ones((3, 4, 6))\n",
    "y = np.tensordot(a, b, ((1, 2), (0, 1)))\n",
    "y = np.tensordot(a, b, 2)\n",
    "y"
   ]
  },
  {
   "cell_type": "code",
   "execution_count": 5,
   "metadata": {},
   "outputs": [
    {
     "name": "stdout",
     "output_type": "stream",
     "text": [
      "(0, 1, 3)\n"
     ]
    },
    {
     "data": {
      "text/plain": [
       "array([1, 1, 1, 5, 2, 3])"
      ]
     },
     "execution_count": 5,
     "metadata": {},
     "output_type": "execute_result"
    }
   ],
   "source": [
    "x = np.arange(3).reshape((1, 3, 1))\n",
    "y = np.broadcast_to(x, (10, 5, 3, 7))\n",
    "\n",
    "y.sum(axis=(1, 2)).shape\n",
    "\n",
    "def get_expanded_axes(xs, ys):\n",
    "    # if y = np.broadcast_to(x, yshape), return the axes of y that are expanded\n",
    "    # from x\n",
    "    s = tuple(1 if len(ys)-i > len(xs) else xs[len(ys)-i-1] for i in range(len(ys)))\n",
    "    print(tuple(i for i in range(len(ys)) if s[i] != ys[i]))\n",
    "\n",
    "\n",
    "get_expanded_axes((1, 3, 1), (10, 5, 3, 7))\n",
    "\n",
    "np.pad((5, 2, 3), (3, 0), constant_values=1)"
   ]
  },
  {
   "cell_type": "code",
   "execution_count": 6,
   "metadata": {},
   "outputs": [
    {
     "data": {
      "text/plain": [
       "tensor([10., 10., 10.])"
      ]
     },
     "execution_count": 6,
     "metadata": {},
     "output_type": "execute_result"
    }
   ],
   "source": [
    "import torch \n",
    "\n",
    "x = torch.ones((3,), dtype=torch.float32, requires_grad=True)\n",
    "y = torch.ones((10, 3), dtype=torch.float32, requires_grad=True)\n",
    "\n",
    "z = x * y\n",
    "z.log().sum().backward()\n",
    "x.grad"
   ]
  },
  {
   "cell_type": "code",
   "execution_count": 7,
   "metadata": {},
   "outputs": [
    {
     "data": {
      "text/plain": [
       "array([[-1.9998440e-01,  4.2412492e-05,  1.1528910e-04,  3.1338827e-04,\n",
       "         8.5187762e-04,  2.3156437e-03,  6.2945718e-03,  1.7110420e-02,\n",
       "         4.6510942e-02,  1.2642986e-01],\n",
       "       [ 1.5602684e-05, -1.9995759e-01,  1.1528910e-04,  3.1338827e-04,\n",
       "         8.5187762e-04,  2.3156437e-03,  6.2945718e-03,  1.7110420e-02,\n",
       "         4.6510942e-02,  1.2642986e-01],\n",
       "       [ 1.5602684e-05,  4.2412492e-05, -1.9988471e-01,  3.1338827e-04,\n",
       "         8.5187762e-04,  2.3156437e-03,  6.2945718e-03,  1.7110420e-02,\n",
       "         4.6510942e-02,  1.2642986e-01],\n",
       "       [ 1.5602684e-05,  4.2412492e-05,  1.1528910e-04, -1.9968662e-01,\n",
       "         8.5187762e-04,  2.3156437e-03,  6.2945718e-03,  1.7110420e-02,\n",
       "         4.6510942e-02,  1.2642986e-01],\n",
       "       [ 1.5602684e-05,  4.2412492e-05,  1.1528910e-04,  3.1338827e-04,\n",
       "        -1.9914812e-01,  2.3156437e-03,  6.2945718e-03,  1.7110420e-02,\n",
       "         4.6510942e-02,  1.2642986e-01]], dtype=float32)"
      ]
     },
     "execution_count": 7,
     "metadata": {},
     "output_type": "execute_result"
    }
   ],
   "source": [
    "x = Tensor(np.arange(10)).broadcast((5, 10))\n",
    "y = x.logsoftmax(axis=-1)\n",
    "yhat = Tensor(np.array([0,1,2,3,4]))\n",
    "loss = NLLLoss()(y, yhat)\n",
    "loss.backward()\n",
    "x.grad\n"
   ]
  },
  {
   "cell_type": "code",
   "execution_count": 30,
   "metadata": {},
   "outputs": [
    {
     "data": {
      "text/plain": [
       "tensor([[-1.9998e-01,  4.2412e-05,  1.1529e-04,  3.1339e-04,  8.5188e-04,\n",
       "          2.3156e-03,  6.2946e-03,  1.7110e-02,  4.6511e-02,  1.2643e-01],\n",
       "        [ 1.5603e-05, -1.9996e-01,  1.1529e-04,  3.1339e-04,  8.5188e-04,\n",
       "          2.3156e-03,  6.2946e-03,  1.7110e-02,  4.6511e-02,  1.2643e-01],\n",
       "        [ 1.5603e-05,  4.2412e-05, -1.9988e-01,  3.1339e-04,  8.5188e-04,\n",
       "          2.3156e-03,  6.2946e-03,  1.7110e-02,  4.6511e-02,  1.2643e-01],\n",
       "        [ 1.5603e-05,  4.2412e-05,  1.1529e-04, -1.9969e-01,  8.5188e-04,\n",
       "          2.3156e-03,  6.2946e-03,  1.7110e-02,  4.6511e-02,  1.2643e-01],\n",
       "        [ 1.5603e-05,  4.2412e-05,  1.1529e-04,  3.1339e-04, -1.9915e-01,\n",
       "          2.3156e-03,  6.2946e-03,  1.7110e-02,  4.6511e-02,  1.2643e-01]])"
      ]
     },
     "execution_count": 30,
     "metadata": {},
     "output_type": "execute_result"
    }
   ],
   "source": [
    "x = torch.tensor(np.broadcast_to(np.arange(10), (5,10)), dtype=torch.float32, requires_grad=True)\n",
    "yhat = torch.tensor([0,1,2,3,4])\n",
    "\n",
    "# loss = nn.NLLLoss()(nn.LogSoftmax(dim=-1)(x), yhat)\n",
    "# loss.backward()\n",
    "\n",
    "loss = nn.CrossEntropyLoss()(x, yhat)\n",
    "loss.backward()\n",
    "x.grad"
   ]
  }
 ],
 "metadata": {
  "kernelspec": {
   "display_name": "venv",
   "language": "python",
   "name": "python3"
  },
  "language_info": {
   "codemirror_mode": {
    "name": "ipython",
    "version": 3
   },
   "file_extension": ".py",
   "mimetype": "text/x-python",
   "name": "python",
   "nbconvert_exporter": "python",
   "pygments_lexer": "ipython3",
   "version": "3.11.6"
  }
 },
 "nbformat": 4,
 "nbformat_minor": 2
}
