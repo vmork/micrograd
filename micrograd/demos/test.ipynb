{
 "cells": [
  {
   "cell_type": "code",
   "execution_count": 7,
   "metadata": {},
   "outputs": [
    {
     "name": "stdout",
     "output_type": "stream",
     "text": [
      "[[1 2 4 5 7 8]\n",
      " [2 3 5 6 8 9]]\n"
     ]
    }
   ],
   "source": [
    "import numpy as np\n",
    "\n",
    "def join_overlapping_subsets(arr, subset_size, axis=None):\n",
    "    subsets = np.lib.stride_tricks.sliding_window_view(arr, window_shape=subset_size, axis=axis)\n",
    "\n",
    "    # If axis is None, flatten the subsets before concatenation\n",
    "    if axis is None:\n",
    "        subsets = subsets.reshape(-1, arr.shape[-1])\n",
    "\n",
    "    # Concatenate along the specified axis or flatten axis=None\n",
    "    result = np.concatenate(subsets, axis=axis)\n",
    "\n",
    "    return result\n",
    "\n",
    "# Example usage:\n",
    "# Assuming 'data' is your input array\n",
    "data = np.array([[1, 2, 3], [4, 5, 6], [7, 8, 9]])\n",
    "\n",
    "# Define subset size and axis\n",
    "subset_size = 2\n",
    "axis = 1  # or specify a particular axis if needed\n",
    "\n",
    "# Call the function\n",
    "result = join_overlapping_subsets(data, subset_size, axis)\n",
    "\n",
    "# Print the result\n",
    "print(result)\n"
   ]
  }
 ],
 "metadata": {
  "kernelspec": {
   "display_name": "venv",
   "language": "python",
   "name": "python3"
  },
  "language_info": {
   "codemirror_mode": {
    "name": "ipython",
    "version": 3
   },
   "file_extension": ".py",
   "mimetype": "text/x-python",
   "name": "python",
   "nbconvert_exporter": "python",
   "pygments_lexer": "ipython3",
   "version": "3.11.6"
  }
 },
 "nbformat": 4,
 "nbformat_minor": 2
}
